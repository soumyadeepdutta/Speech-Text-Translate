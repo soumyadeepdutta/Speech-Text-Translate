{
  "nbformat": 4,
  "nbformat_minor": 0,
  "metadata": {
    "colab": {
      "name": "Audio-Text-Translate",
      "provenance": []
    },
    "kernelspec": {
      "name": "python3",
      "display_name": "Python 3"
    }
  },
  "cells": [
    {
      "cell_type": "markdown",
      "metadata": {
        "id": "7FSCFHShyPYY"
      },
      "source": [
        "# Introduction"
      ]
    },
    {
      "cell_type": "markdown",
      "metadata": {
        "id": "9FvrMgWmw2MW"
      },
      "source": [
        "The first step of this program is to convert an audio(speech) to text using a Speech-To-Text API provided by IBM Watson.\n",
        "\n",
        "The next step is to translate the converted text into different languages using the Language Traslator API which also comes from IBM Watson."
      ]
    },
    {
      "cell_type": "markdown",
      "metadata": {
        "id": "qn_l4thAx50t"
      },
      "source": [
        "Fist step is to get the ibm_watson package installed using pip package installer."
      ]
    },
    {
      "cell_type": "code",
      "metadata": {
        "id": "ceIPTBqpp3T5",
        "outputId": "3ba030a3-f430-447c-8e2d-e69bcec5f42b",
        "colab": {
          "base_uri": "https://localhost:8080/",
          "height": 222
        }
      },
      "source": [
        "!pip install ibm_watson"
      ],
      "execution_count": 1,
      "outputs": [
        {
          "output_type": "stream",
          "text": [
            "Requirement already satisfied: ibm_watson in /usr/local/lib/python3.6/dist-packages (4.7.1)\n",
            "Requirement already satisfied: websocket-client==0.48.0 in /usr/local/lib/python3.6/dist-packages (from ibm_watson) (0.48.0)\n",
            "Requirement already satisfied: python-dateutil>=2.5.3 in /usr/local/lib/python3.6/dist-packages (from ibm_watson) (2.8.1)\n",
            "Requirement already satisfied: ibm-cloud-sdk-core==1.7.3 in /usr/local/lib/python3.6/dist-packages (from ibm_watson) (1.7.3)\n",
            "Requirement already satisfied: requests<3.0,>=2.0 in /usr/local/lib/python3.6/dist-packages (from ibm_watson) (2.23.0)\n",
            "Requirement already satisfied: six in /usr/local/lib/python3.6/dist-packages (from websocket-client==0.48.0->ibm_watson) (1.15.0)\n",
            "Requirement already satisfied: PyJWT>=1.7.1 in /usr/local/lib/python3.6/dist-packages (from ibm-cloud-sdk-core==1.7.3->ibm_watson) (1.7.1)\n",
            "Requirement already satisfied: urllib3!=1.25.0,!=1.25.1,<1.26,>=1.21.1 in /usr/local/lib/python3.6/dist-packages (from requests<3.0,>=2.0->ibm_watson) (1.24.3)\n",
            "Requirement already satisfied: idna<3,>=2.5 in /usr/local/lib/python3.6/dist-packages (from requests<3.0,>=2.0->ibm_watson) (2.10)\n",
            "Requirement already satisfied: chardet<4,>=3.0.2 in /usr/local/lib/python3.6/dist-packages (from requests<3.0,>=2.0->ibm_watson) (3.0.4)\n",
            "Requirement already satisfied: certifi>=2017.4.17 in /usr/local/lib/python3.6/dist-packages (from requests<3.0,>=2.0->ibm_watson) (2020.6.20)\n"
          ],
          "name": "stdout"
        }
      ]
    },
    {
      "cell_type": "markdown",
      "metadata": {
        "id": "vnymkdUDy-7R"
      },
      "source": [
        "We need API Keys to access the IBM Cloud. Without authentication we can not use those APIs. And the API endpoints are based on location of the instance and is different for different service provided by IBM Cloud.\n",
        "Is is better to store them inside of a variable."
      ]
    },
    {
      "cell_type": "markdown",
      "metadata": {
        "id": "cwj9_hvYyXUZ"
      },
      "source": [
        "# Convert Audio to Text"
      ]
    },
    {
      "cell_type": "markdown",
      "metadata": {
        "id": "H_1jEgLCDRl3"
      },
      "source": [
        "We need to import SpeechToTextV1 from ibm_watson and IAMAuthenticators for ibm cloud authentication."
      ]
    },
    {
      "cell_type": "code",
      "metadata": {
        "id": "LXtJXBa4yHjt"
      },
      "source": [
        "from ibm_watson import SpeechToTextV1\n",
        "import json\n",
        "from ibm_cloud_sdk_core.authenticators import IAMAuthenticator "
      ],
      "execution_count": 2,
      "outputs": []
    },
    {
      "cell_type": "code",
      "metadata": {
        "id": "jGW9owp9zx3-"
      },
      "source": [
        "# This is the url endpoint to access the instance of Speech to Text API, from IBM Watson Cloud. \n",
        "instance_url_s2t = \"https://api.eu-gb.speech-to-text.watson.cloud.ibm.com/instances/0ccbd1c6-a12e-4132-888d-f68011b8a909\"\n",
        "# This is the API key to access the Speech to Text API\n",
        "iam_apikey_s2t = \"xUIbMu9Js_xIWc58LgrfkMarAm4W1zBncukijuVBcOR3\""
      ],
      "execution_count": 3,
      "outputs": []
    },
    {
      "cell_type": "markdown",
      "metadata": {
        "id": "hfVwHHUl0sTR"
      },
      "source": [
        "Create an Adapter object of SpeechToTextV1, with the api endpoint and the key"
      ]
    },
    {
      "cell_type": "code",
      "metadata": {
        "id": "gjT9mL-v0YmW",
        "outputId": "e64161e8-803c-4a56-917e-fb5343e2a480",
        "colab": {
          "base_uri": "https://localhost:8080/",
          "height": 34
        }
      },
      "source": [
        "authenticator = IAMAuthenticator(iam_apikey_s2t)\n",
        "s2t = SpeechToTextV1(authenticator=authenticator)\n",
        "s2t.set_service_url(instance_url_s2t)\n",
        "s2t"
      ],
      "execution_count": 4,
      "outputs": [
        {
          "output_type": "execute_result",
          "data": {
            "text/plain": [
              "<ibm_watson.speech_to_text_v1_adapter.SpeechToTextV1Adapter at 0x7f812c42bb70>"
            ]
          },
          "metadata": {
            "tags": []
          },
          "execution_count": 4
        }
      ]
    },
    {
      "cell_type": "markdown",
      "metadata": {
        "id": "-2VPUaWC3BGk"
      },
      "source": [
        "Now we need to get the audio/speech file. I am using gdown to bring the file from my gdrive"
      ]
    },
    {
      "cell_type": "code",
      "metadata": {
        "id": "Uw4wDnk41e58",
        "outputId": "f815ea53-08a4-4d65-aaeb-736a0f648389",
        "colab": {
          "base_uri": "https://localhost:8080/",
          "height": 218
        }
      },
      "source": [
        "!pip install gdown\n",
        "!gdown https://drive.google.com/uc?id=1lpBuaAkwEX8fhLJAK6jzWi5yZaTF6n0S"
      ],
      "execution_count": 5,
      "outputs": [
        {
          "output_type": "stream",
          "text": [
            "Requirement already satisfied: gdown in /usr/local/lib/python3.6/dist-packages (3.6.4)\n",
            "Requirement already satisfied: tqdm in /usr/local/lib/python3.6/dist-packages (from gdown) (4.41.1)\n",
            "Requirement already satisfied: six in /usr/local/lib/python3.6/dist-packages (from gdown) (1.15.0)\n",
            "Requirement already satisfied: requests in /usr/local/lib/python3.6/dist-packages (from gdown) (2.23.0)\n",
            "Requirement already satisfied: chardet<4,>=3.0.2 in /usr/local/lib/python3.6/dist-packages (from requests->gdown) (3.0.4)\n",
            "Requirement already satisfied: certifi>=2017.4.17 in /usr/local/lib/python3.6/dist-packages (from requests->gdown) (2020.6.20)\n",
            "Requirement already satisfied: idna<3,>=2.5 in /usr/local/lib/python3.6/dist-packages (from requests->gdown) (2.10)\n",
            "Requirement already satisfied: urllib3!=1.25.0,!=1.25.1,<1.26,>=1.21.1 in /usr/local/lib/python3.6/dist-packages (from requests->gdown) (1.24.3)\n",
            "Downloading...\n",
            "From: https://drive.google.com/uc?id=1lpBuaAkwEX8fhLJAK6jzWi5yZaTF6n0S\n",
            "To: /content/audio_sample.mp3\n",
            "100% 170k/170k [00:00<00:00, 64.0MB/s]\n"
          ],
          "name": "stdout"
        }
      ]
    },
    {
      "cell_type": "code",
      "metadata": {
        "id": "PZ--uDUw3dZL"
      },
      "source": [
        "filename = '../content/audio_sample.mp3'"
      ],
      "execution_count": 6,
      "outputs": []
    },
    {
      "cell_type": "markdown",
      "metadata": {
        "id": "qwBcgkAS35ot"
      },
      "source": [
        "We will create a binary file object (wav) by using file.open and the mode set to 'rb'. Then the method **recognize** will return the recognized text. This method takes two parameter *audio* and *content_type*"
      ]
    },
    {
      "cell_type": "code",
      "metadata": {
        "id": "jrcEhw-x3k1p"
      },
      "source": [
        "with open(filename, mode='rb') as wav:\n",
        "  response = s2t.recognize(audio=wav, content_type='audio/mp3')"
      ],
      "execution_count": 7,
      "outputs": []
    },
    {
      "cell_type": "code",
      "metadata": {
        "id": "oCpR8H3b-4Ii",
        "outputId": "fe7fd349-f0b3-4898-b4ac-ff5c289fa115",
        "colab": {
          "base_uri": "https://localhost:8080/",
          "height": 34
        }
      },
      "source": [
        "response"
      ],
      "execution_count": 8,
      "outputs": [
        {
          "output_type": "execute_result",
          "data": {
            "text/plain": [
              "<ibm_cloud_sdk_core.detailed_response.DetailedResponse at 0x7f812c3e2b00>"
            ]
          },
          "metadata": {
            "tags": []
          },
          "execution_count": 8
        }
      ]
    },
    {
      "cell_type": "markdown",
      "metadata": {
        "id": "7iuzphCM_uUN"
      },
      "source": [
        "This response have a result attribute which contains a dictionary includes the translation."
      ]
    },
    {
      "cell_type": "code",
      "metadata": {
        "id": "xIwFYmDG_snx",
        "outputId": "8860aad5-0a38-4c8f-eca5-a4b88c1596d5",
        "colab": {
          "base_uri": "https://localhost:8080/",
          "height": 84
        }
      },
      "source": [
        "response.result"
      ],
      "execution_count": 9,
      "outputs": [
        {
          "output_type": "execute_result",
          "data": {
            "text/plain": [
              "{'result_index': 0,\n",
              " 'results': [{'alternatives': [{'confidence': 0.87,\n",
              "     'transcript': 'this is a python program to convert audio to speech and in different language '}],\n",
              "   'final': True}]}"
            ]
          },
          "metadata": {
            "tags": []
          },
          "execution_count": 9
        }
      ]
    },
    {
      "cell_type": "markdown",
      "metadata": {
        "id": "JoO0jLvTAQYL"
      },
      "source": [
        "Normalize the dictionary to JSON, it also adds timestamp which is helpful if the audio is of more than 2 minutes."
      ]
    },
    {
      "cell_type": "code",
      "metadata": {
        "id": "6_BgBPXa_--Z",
        "outputId": "9884ea81-802b-4a37-da92-7c10cfe17c69",
        "colab": {
          "base_uri": "https://localhost:8080/",
          "height": 130
        }
      },
      "source": [
        "from pandas.io.json import json_normalize\n",
        "json_normalize(response.result['results'], \"alternatives\")"
      ],
      "execution_count": 10,
      "outputs": [
        {
          "output_type": "stream",
          "text": [
            "/usr/local/lib/python3.6/dist-packages/ipykernel_launcher.py:2: FutureWarning: pandas.io.json.json_normalize is deprecated, use pandas.json_normalize instead\n",
            "  \n"
          ],
          "name": "stderr"
        },
        {
          "output_type": "execute_result",
          "data": {
            "text/html": [
              "<div>\n",
              "<style scoped>\n",
              "    .dataframe tbody tr th:only-of-type {\n",
              "        vertical-align: middle;\n",
              "    }\n",
              "\n",
              "    .dataframe tbody tr th {\n",
              "        vertical-align: top;\n",
              "    }\n",
              "\n",
              "    .dataframe thead th {\n",
              "        text-align: right;\n",
              "    }\n",
              "</style>\n",
              "<table border=\"1\" class=\"dataframe\">\n",
              "  <thead>\n",
              "    <tr style=\"text-align: right;\">\n",
              "      <th></th>\n",
              "      <th>transcript</th>\n",
              "      <th>confidence</th>\n",
              "    </tr>\n",
              "  </thead>\n",
              "  <tbody>\n",
              "    <tr>\n",
              "      <th>0</th>\n",
              "      <td>this is a python program to convert audio to s...</td>\n",
              "      <td>0.87</td>\n",
              "    </tr>\n",
              "  </tbody>\n",
              "</table>\n",
              "</div>"
            ],
            "text/plain": [
              "                                          transcript  confidence\n",
              "0  this is a python program to convert audio to s...        0.87"
            ]
          },
          "metadata": {
            "tags": []
          },
          "execution_count": 10
        }
      ]
    },
    {
      "cell_type": "code",
      "metadata": {
        "id": "Br-rPJiRAv7h",
        "outputId": "f9a67bd4-d377-4bb5-91eb-9d3fadb75135",
        "colab": {
          "base_uri": "https://localhost:8080/",
          "height": 34
        }
      },
      "source": [
        "recognized_text = response.result['results'][0][\"alternatives\"][0][\"transcript\"]\n",
        "print(recognized_text)"
      ],
      "execution_count": 11,
      "outputs": [
        {
          "output_type": "stream",
          "text": [
            "this is a python program to convert audio to speech and in different language \n"
          ],
          "name": "stdout"
        }
      ]
    },
    {
      "cell_type": "markdown",
      "metadata": {
        "id": "hAVe8V4LBMWG"
      },
      "source": [
        "# Translate to Different Language"
      ]
    },
    {
      "cell_type": "markdown",
      "metadata": {
        "id": "PvK5naMvDp5w"
      },
      "source": [
        "Import LanguageTranslatorV3 from ibm_watson and get a access key and access url from instance's service credentials."
      ]
    },
    {
      "cell_type": "code",
      "metadata": {
        "id": "LqDIpj_XBSxW"
      },
      "source": [
        "from ibm_watson import LanguageTranslatorV3"
      ],
      "execution_count": 12,
      "outputs": []
    },
    {
      "cell_type": "code",
      "metadata": {
        "id": "DwPa88NLELlq"
      },
      "source": [
        "# This is the url endpoint to access the instance of Language Translator API, from IBM Watson Cloud. \n",
        "instance_url_lt = \"https://api.eu-gb.language-translator.watson.cloud.ibm.com/instances/af85a29b-f71e-4161-90ff-35fb096479c3\"\n",
        "# This is the API key to access the Language Translator API\n",
        "iam_apikey_lt = \"yLqJCfZ8e5Kly5A3Vv4WNi5acXPDMN34CBcE8BP_25Y8\""
      ],
      "execution_count": 13,
      "outputs": []
    },
    {
      "cell_type": "markdown",
      "metadata": {
        "id": "C5_wDWAnE699"
      },
      "source": [
        "This api needs a version number to be passed in the format \"YYYY-MM-DD\".\n",
        "The current version is 2018-05-01"
      ]
    },
    {
      "cell_type": "code",
      "metadata": {
        "id": "QbP9BXFGE2ln"
      },
      "source": [
        "version = '2018-05-01'"
      ],
      "execution_count": 14,
      "outputs": []
    },
    {
      "cell_type": "markdown",
      "metadata": {
        "id": "H8gy2NY0FXzL"
      },
      "source": [
        "Now create Language Translator object"
      ]
    },
    {
      "cell_type": "code",
      "metadata": {
        "id": "aoJ8sYLkFTWo",
        "outputId": "07690796-55c8-4957-fbc2-6736b767edfd",
        "colab": {
          "base_uri": "https://localhost:8080/",
          "height": 34
        }
      },
      "source": [
        "authenticator = IAMAuthenticator(apikey=iam_apikey_lt)\n",
        "language_translator = LanguageTranslatorV3(version=version, authenticator=authenticator)\n",
        "language_translator.set_service_url(instance_url_lt)\n",
        "language_translator"
      ],
      "execution_count": 15,
      "outputs": [
        {
          "output_type": "execute_result",
          "data": {
            "text/plain": [
              "<ibm_watson.language_translator_v3.LanguageTranslatorV3 at 0x7f812bfb1d30>"
            ]
          },
          "metadata": {
            "tags": []
          },
          "execution_count": 15
        }
      ]
    },
    {
      "cell_type": "markdown",
      "metadata": {
        "id": "7y40-b88F_em"
      },
      "source": [
        "Lets see in how many language we can convert our text"
      ]
    },
    {
      "cell_type": "code",
      "metadata": {
        "id": "nL9By4KcF2sX",
        "outputId": "4bda9500-c364-44d5-be62-de73e9aa2287",
        "colab": {
          "base_uri": "https://localhost:8080/",
          "height": 455
        }
      },
      "source": [
        "json_normalize(language_translator.list_identifiable_languages().get_result(), \"languages\")"
      ],
      "execution_count": 16,
      "outputs": [
        {
          "output_type": "stream",
          "text": [
            "/usr/local/lib/python3.6/dist-packages/ipykernel_launcher.py:1: FutureWarning: pandas.io.json.json_normalize is deprecated, use pandas.json_normalize instead\n",
            "  \"\"\"Entry point for launching an IPython kernel.\n"
          ],
          "name": "stderr"
        },
        {
          "output_type": "execute_result",
          "data": {
            "text/html": [
              "<div>\n",
              "<style scoped>\n",
              "    .dataframe tbody tr th:only-of-type {\n",
              "        vertical-align: middle;\n",
              "    }\n",
              "\n",
              "    .dataframe tbody tr th {\n",
              "        vertical-align: top;\n",
              "    }\n",
              "\n",
              "    .dataframe thead th {\n",
              "        text-align: right;\n",
              "    }\n",
              "</style>\n",
              "<table border=\"1\" class=\"dataframe\">\n",
              "  <thead>\n",
              "    <tr style=\"text-align: right;\">\n",
              "      <th></th>\n",
              "      <th>language</th>\n",
              "      <th>name</th>\n",
              "    </tr>\n",
              "  </thead>\n",
              "  <tbody>\n",
              "    <tr>\n",
              "      <th>0</th>\n",
              "      <td>af</td>\n",
              "      <td>Afrikaans</td>\n",
              "    </tr>\n",
              "    <tr>\n",
              "      <th>1</th>\n",
              "      <td>ar</td>\n",
              "      <td>Arabic</td>\n",
              "    </tr>\n",
              "    <tr>\n",
              "      <th>2</th>\n",
              "      <td>az</td>\n",
              "      <td>Azerbaijani</td>\n",
              "    </tr>\n",
              "    <tr>\n",
              "      <th>3</th>\n",
              "      <td>ba</td>\n",
              "      <td>Bashkir</td>\n",
              "    </tr>\n",
              "    <tr>\n",
              "      <th>4</th>\n",
              "      <td>be</td>\n",
              "      <td>Belarusian</td>\n",
              "    </tr>\n",
              "    <tr>\n",
              "      <th>...</th>\n",
              "      <td>...</td>\n",
              "      <td>...</td>\n",
              "    </tr>\n",
              "    <tr>\n",
              "      <th>71</th>\n",
              "      <td>uk</td>\n",
              "      <td>Ukrainian</td>\n",
              "    </tr>\n",
              "    <tr>\n",
              "      <th>72</th>\n",
              "      <td>ur</td>\n",
              "      <td>Urdu</td>\n",
              "    </tr>\n",
              "    <tr>\n",
              "      <th>73</th>\n",
              "      <td>vi</td>\n",
              "      <td>Vietnamese</td>\n",
              "    </tr>\n",
              "    <tr>\n",
              "      <th>74</th>\n",
              "      <td>zh</td>\n",
              "      <td>Simplified Chinese</td>\n",
              "    </tr>\n",
              "    <tr>\n",
              "      <th>75</th>\n",
              "      <td>zh-TW</td>\n",
              "      <td>Traditional Chinese</td>\n",
              "    </tr>\n",
              "  </tbody>\n",
              "</table>\n",
              "<p>76 rows × 2 columns</p>\n",
              "</div>"
            ],
            "text/plain": [
              "   language                 name\n",
              "0        af            Afrikaans\n",
              "1        ar               Arabic\n",
              "2        az          Azerbaijani\n",
              "3        ba              Bashkir\n",
              "4        be           Belarusian\n",
              "..      ...                  ...\n",
              "71       uk            Ukrainian\n",
              "72       ur                 Urdu\n",
              "73       vi           Vietnamese\n",
              "74       zh   Simplified Chinese\n",
              "75    zh-TW  Traditional Chinese\n",
              "\n",
              "[76 rows x 2 columns]"
            ]
          },
          "metadata": {
            "tags": []
          },
          "execution_count": 16
        }
      ]
    },
    {
      "cell_type": "markdown",
      "metadata": {
        "id": "nWL86VknGig6"
      },
      "source": [
        "The **translate** method will take two parameter, the string to be translated and the language it to be translated from-into (like 'en-es' will transtale English text into Spanish)."
      ]
    },
    {
      "cell_type": "markdown",
      "metadata": {
        "id": "IhZhvACdIa53"
      },
      "source": [
        " **English => Spanish**"
      ]
    },
    {
      "cell_type": "code",
      "metadata": {
        "id": "GpDKKlMeGRSH"
      },
      "source": [
        "translating_to_spanish = language_translator.translate(text=recognized_text, model_id='en-es')"
      ],
      "execution_count": 17,
      "outputs": []
    },
    {
      "cell_type": "markdown",
      "metadata": {
        "id": "rW3n1nxyHZZE"
      },
      "source": [
        "It returns a dictionary"
      ]
    },
    {
      "cell_type": "code",
      "metadata": {
        "id": "IgEE8_S_HYna",
        "outputId": "3e34d46a-f32e-4f06-95f8-c82225465c3b",
        "colab": {
          "base_uri": "https://localhost:8080/",
          "height": 67
        }
      },
      "source": [
        "translating_to_spanish.get_result()"
      ],
      "execution_count": 18,
      "outputs": [
        {
          "output_type": "execute_result",
          "data": {
            "text/plain": [
              "{'character_count': 78,\n",
              " 'translations': [{'translation': 'este es un programa de python para convertir audio a voz y en diferentes idiomas '}],\n",
              " 'word_count': 14}"
            ]
          },
          "metadata": {
            "tags": []
          },
          "execution_count": 18
        }
      ]
    },
    {
      "cell_type": "code",
      "metadata": {
        "id": "rvYYyzxpHgvY",
        "outputId": "5fb3873a-be4e-430d-b2f3-f4a1dc5f7218",
        "colab": {
          "base_uri": "https://localhost:8080/",
          "height": 35
        }
      },
      "source": [
        "translated_spanish_text = translating_to_spanish.get_result()['translations'][0]['translation']\n",
        "translated_spanish_text"
      ],
      "execution_count": 19,
      "outputs": [
        {
          "output_type": "execute_result",
          "data": {
            "application/vnd.google.colaboratory.intrinsic+json": {
              "type": "string"
            },
            "text/plain": [
              "'este es un programa de python para convertir audio a voz y en diferentes idiomas '"
            ]
          },
          "metadata": {
            "tags": []
          },
          "execution_count": 19
        }
      ]
    },
    {
      "cell_type": "markdown",
      "metadata": {
        "id": "SU2SlOGuIoJ9"
      },
      "source": [
        "**English => Bengali**"
      ]
    },
    {
      "cell_type": "code",
      "metadata": {
        "id": "pzMBoTB5IsfV",
        "outputId": "9080a4b8-5c6a-4e59-c213-926d29194863",
        "colab": {
          "base_uri": "https://localhost:8080/",
          "height": 35
        }
      },
      "source": [
        "translating_to_bengali = language_translator.translate(text=recognized_text, model_id='en-bn')\n",
        "translated_bengali_text = translating_to_bengali.get_result()['translations'][0]['translation']\n",
        "translated_bengali_text"
      ],
      "execution_count": 20,
      "outputs": [
        {
          "output_type": "execute_result",
          "data": {
            "application/vnd.google.colaboratory.intrinsic+json": {
              "type": "string"
            },
            "text/plain": [
              "'এটি একটি পাইথন প্রোগ্রাম, যা অডিও ভাষাকে বক্তৃতা এবং বিভিন্ন ভাষায় রূপান্তর করা. '"
            ]
          },
          "metadata": {
            "tags": []
          },
          "execution_count": 20
        }
      ]
    },
    {
      "cell_type": "markdown",
      "metadata": {
        "id": "DoS0oDxvKWer"
      },
      "source": [
        "This is python program which I learned while doing a Data Science certification course from [cognitiveclass.ai](https://glados.cognitiveclass.ai/)"
      ]
    },
    {
      "cell_type": "markdown",
      "metadata": {
        "id": "HCFuRLCJJkkK"
      },
      "source": [
        "**References**\n",
        "\n",
        "1. Speech to Text [Documentstion](https://cloud.ibm.com/apidocs/speech-to-text?code=python) from IBM Cloud\n",
        "2. Language Translator [Documentation](https://cloud.ibm.com/apidocs/language-translator?code=python) from IBM Cloud.\n",
        "\n",
        "\n"
      ]
    }
  ]
}